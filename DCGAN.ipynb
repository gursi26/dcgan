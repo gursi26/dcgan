{
 "cells": [
  {
   "cell_type": "code",
   "execution_count": 1,
   "metadata": {},
   "outputs": [],
   "source": [
    "import torch\n",
    "from torch import nn, optim\n",
    "import torch.nn.functional as F\n",
    "from torch.utils.data import Dataset, DataLoader\n",
    "from torchvision.datasets import MNIST\n",
    "from torchvision import transforms\n",
    "import matplotlib.pyplot as plt\n",
    "from tqdm import tqdm\n",
    "from model import Generator, Discriminator\n",
    "from utils import init_weights_normal, visualize_outputs\n",
    "from torch.utils.tensorboard import SummaryWriter"
   ]
  },
  {
   "cell_type": "code",
   "execution_count": 2,
   "metadata": {},
   "outputs": [],
   "source": [
    "T = transforms.Compose([\n",
    "    transforms.ToTensor(),\n",
    "    transforms.Normalize([0.5], [0.5])\n",
    "])\n",
    "\n",
    "dataset = MNIST(root=\"./data\", train=True, download=True, transform=T)"
   ]
  },
  {
   "cell_type": "code",
   "execution_count": 3,
   "metadata": {},
   "outputs": [],
   "source": [
    "EPOCHS = 1000\n",
    "BATCH_SIZE = 128\n",
    "DEVICE = torch.device(\"mps\")\n",
    "LR = 0.0002\n",
    "BETAS = (0.5, 0.999)\n",
    "Z_DIM = 100"
   ]
  },
  {
   "cell_type": "code",
   "execution_count": 4,
   "metadata": {},
   "outputs": [],
   "source": [
    "loader = DataLoader(dataset, BATCH_SIZE, shuffle=True)\n",
    "gen = Generator(Z_DIM).to(DEVICE)\n",
    "disc = Discriminator().to(DEVICE)\n",
    "init_weights_normal(gen, 0, 0.02)\n",
    "init_weights_normal(disc, 0, 0.02)\n",
    "\n",
    "gen_opt = optim.Adam(gen.parameters(), lr=LR, betas=BETAS)\n",
    "disc_opt = optim.Adam(disc.parameters(), lr=LR, betas=BETAS)\n",
    "crit = nn.BCELoss()"
   ]
  },
  {
   "cell_type": "code",
   "execution_count": 5,
   "metadata": {},
   "outputs": [
    {
     "name": "stderr",
     "output_type": "stream",
     "text": [
      "Epoch : [0/1000]:   1%|          | 5/469 [00:06<09:26,  1.22s/it, disc_loss=0.577, gen_loss=0.858]\n"
     ]
    },
    {
     "ename": "KeyboardInterrupt",
     "evalue": "",
     "output_type": "error",
     "traceback": [
      "\u001b[0;31m---------------------------------------------------------------------------\u001b[0m",
      "\u001b[0;31mKeyboardInterrupt\u001b[0m                         Traceback (most recent call last)",
      "\u001b[0;32m/var/folders/m2/jysgcgj57vn69541g8m0qz_h0000gn/T/ipykernel_7146/2904376617.py\u001b[0m in \u001b[0;36m<cell line: 3>\u001b[0;34m()\u001b[0m\n\u001b[1;32m     30\u001b[0m         \u001b[0mgen_opt\u001b[0m\u001b[0;34m.\u001b[0m\u001b[0mstep\u001b[0m\u001b[0;34m(\u001b[0m\u001b[0;34m)\u001b[0m\u001b[0;34m\u001b[0m\u001b[0;34m\u001b[0m\u001b[0m\n\u001b[1;32m     31\u001b[0m \u001b[0;34m\u001b[0m\u001b[0m\n\u001b[0;32m---> 32\u001b[0;31m         \u001b[0mloop\u001b[0m\u001b[0;34m.\u001b[0m\u001b[0mset_postfix\u001b[0m\u001b[0;34m(\u001b[0m\u001b[0mgen_loss\u001b[0m \u001b[0;34m=\u001b[0m \u001b[0mgen_loss\u001b[0m\u001b[0;34m.\u001b[0m\u001b[0mitem\u001b[0m\u001b[0;34m(\u001b[0m\u001b[0;34m)\u001b[0m\u001b[0;34m,\u001b[0m \u001b[0mdisc_loss\u001b[0m \u001b[0;34m=\u001b[0m \u001b[0mdisc_loss\u001b[0m\u001b[0;34m.\u001b[0m\u001b[0mitem\u001b[0m\u001b[0;34m(\u001b[0m\u001b[0;34m)\u001b[0m\u001b[0;34m)\u001b[0m\u001b[0;34m\u001b[0m\u001b[0;34m\u001b[0m\u001b[0m\n\u001b[0m\u001b[1;32m     33\u001b[0m         \u001b[0mwriter\u001b[0m\u001b[0;34m.\u001b[0m\u001b[0madd_scalar\u001b[0m\u001b[0;34m(\u001b[0m\u001b[0;34m\"Generator Loss\"\u001b[0m\u001b[0;34m,\u001b[0m \u001b[0mgen_loss\u001b[0m\u001b[0;34m.\u001b[0m\u001b[0mitem\u001b[0m\u001b[0;34m(\u001b[0m\u001b[0;34m)\u001b[0m\u001b[0;34m,\u001b[0m \u001b[0midx\u001b[0m \u001b[0;34m+\u001b[0m \u001b[0mlen\u001b[0m\u001b[0;34m(\u001b[0m\u001b[0mloader\u001b[0m\u001b[0;34m)\u001b[0m \u001b[0;34m*\u001b[0m \u001b[0me\u001b[0m\u001b[0;34m)\u001b[0m\u001b[0;34m\u001b[0m\u001b[0;34m\u001b[0m\u001b[0m\n\u001b[1;32m     34\u001b[0m         \u001b[0mwriter\u001b[0m\u001b[0;34m.\u001b[0m\u001b[0madd_scalar\u001b[0m\u001b[0;34m(\u001b[0m\u001b[0;34m\"Discriminator Loss\"\u001b[0m\u001b[0;34m,\u001b[0m \u001b[0mdisc_loss\u001b[0m\u001b[0;34m.\u001b[0m\u001b[0mitem\u001b[0m\u001b[0;34m(\u001b[0m\u001b[0;34m)\u001b[0m\u001b[0;34m,\u001b[0m \u001b[0midx\u001b[0m \u001b[0;34m+\u001b[0m \u001b[0mlen\u001b[0m\u001b[0;34m(\u001b[0m\u001b[0mloader\u001b[0m\u001b[0;34m)\u001b[0m \u001b[0;34m*\u001b[0m \u001b[0me\u001b[0m\u001b[0;34m)\u001b[0m\u001b[0;34m\u001b[0m\u001b[0;34m\u001b[0m\u001b[0m\n",
      "\u001b[0;31mKeyboardInterrupt\u001b[0m: "
     ]
    }
   ],
   "source": [
    "writer = SummaryWriter(log_dir=\"logs\")\n",
    "\n",
    "for e in range(EPOCHS):\n",
    "    loop = tqdm(enumerate(loader), total=len(loader), leave=True, position=0)\n",
    "    loop.set_description(f\"Epoch : [{e}/{EPOCHS}]\")\n",
    "    gen.train()\n",
    "    disc.train()\n",
    "    for idx, (real, _) in loop:\n",
    "        real = real.to(DEVICE)\n",
    "        noise = torch.randn(BATCH_SIZE, Z_DIM, 1, 1).to(DEVICE)\n",
    "\n",
    "        # Discriminator training\n",
    "        disc_real_yhat = disc(real).view(-1)\n",
    "        loss_disc_real = crit(disc_real_yhat, torch.ones_like(disc_real_yhat))\n",
    "\n",
    "        fake = gen(noise)\n",
    "        disc_fake_yhat = disc(fake).view(-1)\n",
    "        loss_disc_fake = crit(disc_fake_yhat, torch.zeros_like(disc_fake_yhat))\n",
    "\n",
    "        disc_loss = (loss_disc_fake + loss_disc_real) / 2\n",
    "        disc.zero_grad()\n",
    "        disc_loss.backward(retain_graph=True)\n",
    "        disc_opt.step()\n",
    "\n",
    "        # Generator training\n",
    "        fake_yhat = disc(fake).view(-1)\n",
    "        gen_loss = crit(fake_yhat, torch.ones_like(fake_yhat))\n",
    "        gen.zero_grad()\n",
    "        gen_loss.backward()\n",
    "        gen_opt.step()\n",
    "\n",
    "        loop.set_postfix(gen_loss = gen_loss.item(), disc_loss = disc_loss.item())\n",
    "        writer.add_scalar(\"Generator Loss\", gen_loss.item(), idx + len(loader) * e)\n",
    "        writer.add_scalar(\"Discriminator Loss\", disc_loss.item(), idx + len(loader) * e)\n",
    "\n",
    "        writer.add_images(\"Sample outputs\", visualize_outputs(gen, Z_DIM, DEVICE), idx + len(loader) * e)"
   ]
  }
 ],
 "metadata": {
  "kernelspec": {
   "display_name": "ml",
   "language": "python",
   "name": "python3"
  },
  "language_info": {
   "codemirror_mode": {
    "name": "ipython",
    "version": 3
   },
   "file_extension": ".py",
   "mimetype": "text/x-python",
   "name": "python",
   "nbconvert_exporter": "python",
   "pygments_lexer": "ipython3",
   "version": "3.9.13"
  },
  "orig_nbformat": 4
 },
 "nbformat": 4,
 "nbformat_minor": 2
}
